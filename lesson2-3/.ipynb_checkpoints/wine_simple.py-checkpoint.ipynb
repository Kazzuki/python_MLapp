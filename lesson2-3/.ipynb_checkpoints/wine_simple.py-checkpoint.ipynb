{
 "cells": [
  {
   "cell_type": "code",
   "execution_count": 8,
   "metadata": {},
   "outputs": [],
   "source": [
    "import pandas as pd\n",
    "from sklearn.model_selection import train_test_split\n",
    "from sklearn.ensemble import RandomForestClassifier\n",
    "from sklearn.metrics import accuracy_score\n",
    "from sklearn.metrics import classification_report"
   ]
  },
  {
   "cell_type": "code",
   "execution_count": 16,
   "metadata": {},
   "outputs": [],
   "source": [
    "#データを読み込む\n",
    "wine = pd.read_csv(\"winequality-white.csv\", sep=\";\", encoding=\"utf-8\")"
   ]
  },
  {
   "cell_type": "code",
   "execution_count": 27,
   "metadata": {},
   "outputs": [],
   "source": [
    "#データをラベルとデータに分類\n",
    "y = wine[\"quality\"]\n",
    "x = wine.drop(\"quality\", axis=1)"
   ]
  },
  {
   "cell_type": "code",
   "execution_count": 28,
   "metadata": {},
   "outputs": [
    {
     "data": {
      "text/plain": [
       "0       6\n",
       "1       6\n",
       "2       6\n",
       "3       6\n",
       "4       6\n",
       "       ..\n",
       "4893    6\n",
       "4894    5\n",
       "4895    6\n",
       "4896    7\n",
       "4897    6\n",
       "Name: quality, Length: 4898, dtype: int64"
      ]
     },
     "execution_count": 28,
     "metadata": {},
     "output_type": "execute_result"
    }
   ],
   "source": [
    "y"
   ]
  },
  {
   "cell_type": "code",
   "execution_count": 29,
   "metadata": {},
   "outputs": [
    {
     "data": {
      "text/html": [
       "<div>\n",
       "<style scoped>\n",
       "    .dataframe tbody tr th:only-of-type {\n",
       "        vertical-align: middle;\n",
       "    }\n",
       "\n",
       "    .dataframe tbody tr th {\n",
       "        vertical-align: top;\n",
       "    }\n",
       "\n",
       "    .dataframe thead th {\n",
       "        text-align: right;\n",
       "    }\n",
       "</style>\n",
       "<table border=\"1\" class=\"dataframe\">\n",
       "  <thead>\n",
       "    <tr style=\"text-align: right;\">\n",
       "      <th></th>\n",
       "      <th>fixed acidity</th>\n",
       "      <th>volatile acidity</th>\n",
       "      <th>citric acid</th>\n",
       "      <th>residual sugar</th>\n",
       "      <th>chlorides</th>\n",
       "      <th>free sulfur dioxide</th>\n",
       "      <th>total sulfur dioxide</th>\n",
       "      <th>density</th>\n",
       "      <th>pH</th>\n",
       "      <th>sulphates</th>\n",
       "      <th>alcohol</th>\n",
       "    </tr>\n",
       "  </thead>\n",
       "  <tbody>\n",
       "    <tr>\n",
       "      <th>0</th>\n",
       "      <td>7.0</td>\n",
       "      <td>0.27</td>\n",
       "      <td>0.36</td>\n",
       "      <td>20.7</td>\n",
       "      <td>0.045</td>\n",
       "      <td>45.0</td>\n",
       "      <td>170.0</td>\n",
       "      <td>1.00100</td>\n",
       "      <td>3.00</td>\n",
       "      <td>0.45</td>\n",
       "      <td>8.8</td>\n",
       "    </tr>\n",
       "    <tr>\n",
       "      <th>1</th>\n",
       "      <td>6.3</td>\n",
       "      <td>0.30</td>\n",
       "      <td>0.34</td>\n",
       "      <td>1.6</td>\n",
       "      <td>0.049</td>\n",
       "      <td>14.0</td>\n",
       "      <td>132.0</td>\n",
       "      <td>0.99400</td>\n",
       "      <td>3.30</td>\n",
       "      <td>0.49</td>\n",
       "      <td>9.5</td>\n",
       "    </tr>\n",
       "    <tr>\n",
       "      <th>2</th>\n",
       "      <td>8.1</td>\n",
       "      <td>0.28</td>\n",
       "      <td>0.40</td>\n",
       "      <td>6.9</td>\n",
       "      <td>0.050</td>\n",
       "      <td>30.0</td>\n",
       "      <td>97.0</td>\n",
       "      <td>0.99510</td>\n",
       "      <td>3.26</td>\n",
       "      <td>0.44</td>\n",
       "      <td>10.1</td>\n",
       "    </tr>\n",
       "    <tr>\n",
       "      <th>3</th>\n",
       "      <td>7.2</td>\n",
       "      <td>0.23</td>\n",
       "      <td>0.32</td>\n",
       "      <td>8.5</td>\n",
       "      <td>0.058</td>\n",
       "      <td>47.0</td>\n",
       "      <td>186.0</td>\n",
       "      <td>0.99560</td>\n",
       "      <td>3.19</td>\n",
       "      <td>0.40</td>\n",
       "      <td>9.9</td>\n",
       "    </tr>\n",
       "    <tr>\n",
       "      <th>4</th>\n",
       "      <td>7.2</td>\n",
       "      <td>0.23</td>\n",
       "      <td>0.32</td>\n",
       "      <td>8.5</td>\n",
       "      <td>0.058</td>\n",
       "      <td>47.0</td>\n",
       "      <td>186.0</td>\n",
       "      <td>0.99560</td>\n",
       "      <td>3.19</td>\n",
       "      <td>0.40</td>\n",
       "      <td>9.9</td>\n",
       "    </tr>\n",
       "    <tr>\n",
       "      <th>...</th>\n",
       "      <td>...</td>\n",
       "      <td>...</td>\n",
       "      <td>...</td>\n",
       "      <td>...</td>\n",
       "      <td>...</td>\n",
       "      <td>...</td>\n",
       "      <td>...</td>\n",
       "      <td>...</td>\n",
       "      <td>...</td>\n",
       "      <td>...</td>\n",
       "      <td>...</td>\n",
       "    </tr>\n",
       "    <tr>\n",
       "      <th>4893</th>\n",
       "      <td>6.2</td>\n",
       "      <td>0.21</td>\n",
       "      <td>0.29</td>\n",
       "      <td>1.6</td>\n",
       "      <td>0.039</td>\n",
       "      <td>24.0</td>\n",
       "      <td>92.0</td>\n",
       "      <td>0.99114</td>\n",
       "      <td>3.27</td>\n",
       "      <td>0.50</td>\n",
       "      <td>11.2</td>\n",
       "    </tr>\n",
       "    <tr>\n",
       "      <th>4894</th>\n",
       "      <td>6.6</td>\n",
       "      <td>0.32</td>\n",
       "      <td>0.36</td>\n",
       "      <td>8.0</td>\n",
       "      <td>0.047</td>\n",
       "      <td>57.0</td>\n",
       "      <td>168.0</td>\n",
       "      <td>0.99490</td>\n",
       "      <td>3.15</td>\n",
       "      <td>0.46</td>\n",
       "      <td>9.6</td>\n",
       "    </tr>\n",
       "    <tr>\n",
       "      <th>4895</th>\n",
       "      <td>6.5</td>\n",
       "      <td>0.24</td>\n",
       "      <td>0.19</td>\n",
       "      <td>1.2</td>\n",
       "      <td>0.041</td>\n",
       "      <td>30.0</td>\n",
       "      <td>111.0</td>\n",
       "      <td>0.99254</td>\n",
       "      <td>2.99</td>\n",
       "      <td>0.46</td>\n",
       "      <td>9.4</td>\n",
       "    </tr>\n",
       "    <tr>\n",
       "      <th>4896</th>\n",
       "      <td>5.5</td>\n",
       "      <td>0.29</td>\n",
       "      <td>0.30</td>\n",
       "      <td>1.1</td>\n",
       "      <td>0.022</td>\n",
       "      <td>20.0</td>\n",
       "      <td>110.0</td>\n",
       "      <td>0.98869</td>\n",
       "      <td>3.34</td>\n",
       "      <td>0.38</td>\n",
       "      <td>12.8</td>\n",
       "    </tr>\n",
       "    <tr>\n",
       "      <th>4897</th>\n",
       "      <td>6.0</td>\n",
       "      <td>0.21</td>\n",
       "      <td>0.38</td>\n",
       "      <td>0.8</td>\n",
       "      <td>0.020</td>\n",
       "      <td>22.0</td>\n",
       "      <td>98.0</td>\n",
       "      <td>0.98941</td>\n",
       "      <td>3.26</td>\n",
       "      <td>0.32</td>\n",
       "      <td>11.8</td>\n",
       "    </tr>\n",
       "  </tbody>\n",
       "</table>\n",
       "<p>4898 rows × 11 columns</p>\n",
       "</div>"
      ],
      "text/plain": [
       "      fixed acidity  volatile acidity  citric acid  residual sugar  chlorides  \\\n",
       "0               7.0              0.27         0.36            20.7      0.045   \n",
       "1               6.3              0.30         0.34             1.6      0.049   \n",
       "2               8.1              0.28         0.40             6.9      0.050   \n",
       "3               7.2              0.23         0.32             8.5      0.058   \n",
       "4               7.2              0.23         0.32             8.5      0.058   \n",
       "...             ...               ...          ...             ...        ...   \n",
       "4893            6.2              0.21         0.29             1.6      0.039   \n",
       "4894            6.6              0.32         0.36             8.0      0.047   \n",
       "4895            6.5              0.24         0.19             1.2      0.041   \n",
       "4896            5.5              0.29         0.30             1.1      0.022   \n",
       "4897            6.0              0.21         0.38             0.8      0.020   \n",
       "\n",
       "      free sulfur dioxide  total sulfur dioxide  density    pH  sulphates  \\\n",
       "0                    45.0                 170.0  1.00100  3.00       0.45   \n",
       "1                    14.0                 132.0  0.99400  3.30       0.49   \n",
       "2                    30.0                  97.0  0.99510  3.26       0.44   \n",
       "3                    47.0                 186.0  0.99560  3.19       0.40   \n",
       "4                    47.0                 186.0  0.99560  3.19       0.40   \n",
       "...                   ...                   ...      ...   ...        ...   \n",
       "4893                 24.0                  92.0  0.99114  3.27       0.50   \n",
       "4894                 57.0                 168.0  0.99490  3.15       0.46   \n",
       "4895                 30.0                 111.0  0.99254  2.99       0.46   \n",
       "4896                 20.0                 110.0  0.98869  3.34       0.38   \n",
       "4897                 22.0                  98.0  0.98941  3.26       0.32   \n",
       "\n",
       "      alcohol  \n",
       "0         8.8  \n",
       "1         9.5  \n",
       "2        10.1  \n",
       "3         9.9  \n",
       "4         9.9  \n",
       "...       ...  \n",
       "4893     11.2  \n",
       "4894      9.6  \n",
       "4895      9.4  \n",
       "4896     12.8  \n",
       "4897     11.8  \n",
       "\n",
       "[4898 rows x 11 columns]"
      ]
     },
     "execution_count": 29,
     "metadata": {},
     "output_type": "execute_result"
    }
   ],
   "source": [
    "x"
   ]
  },
  {
   "cell_type": "code",
   "execution_count": 30,
   "metadata": {},
   "outputs": [],
   "source": [
    "x_train, x_test, y_train, y_test = train_test_split(x, y, test_size=0.2) "
   ]
  },
  {
   "cell_type": "code",
   "execution_count": 31,
   "metadata": {},
   "outputs": [],
   "source": [
    "model = RandomForestClassifier()"
   ]
  },
  {
   "cell_type": "code",
   "execution_count": 33,
   "metadata": {},
   "outputs": [
    {
     "data": {
      "text/plain": [
       "RandomForestClassifier(bootstrap=True, ccp_alpha=0.0, class_weight=None,\n",
       "                       criterion='gini', max_depth=None, max_features='auto',\n",
       "                       max_leaf_nodes=None, max_samples=None,\n",
       "                       min_impurity_decrease=0.0, min_impurity_split=None,\n",
       "                       min_samples_leaf=1, min_samples_split=2,\n",
       "                       min_weight_fraction_leaf=0.0, n_estimators=100,\n",
       "                       n_jobs=None, oob_score=False, random_state=None,\n",
       "                       verbose=0, warm_start=False)"
      ]
     },
     "execution_count": 33,
     "metadata": {},
     "output_type": "execute_result"
    }
   ],
   "source": [
    "model.fit(x_train, y_train)"
   ]
  },
  {
   "cell_type": "code",
   "execution_count": 34,
   "metadata": {},
   "outputs": [],
   "source": [
    "#評価する\n",
    "y_pred = model.predict(x_test)"
   ]
  },
  {
   "cell_type": "code",
   "execution_count": 35,
   "metadata": {},
   "outputs": [
    {
     "data": {
      "text/plain": [
       "array([6, 6, 5, 6, 7, 5, 6, 6, 7, 7, 5, 6, 6, 6, 8, 5, 6, 6, 6, 6, 6, 5,\n",
       "       7, 6, 6, 5, 6, 5, 6, 6, 6, 6, 7, 6, 5, 6, 5, 5, 6, 6, 5, 6, 5, 6,\n",
       "       6, 5, 6, 6, 7, 5, 6, 5, 5, 6, 6, 7, 6, 6, 5, 5, 7, 6, 6, 6, 5, 6,\n",
       "       6, 5, 5, 5, 6, 6, 7, 6, 6, 6, 6, 6, 6, 6, 6, 7, 5, 5, 6, 6, 6, 6,\n",
       "       5, 5, 6, 6, 6, 5, 5, 5, 7, 5, 5, 5, 6, 5, 6, 5, 5, 6, 6, 5, 6, 6,\n",
       "       6, 6, 6, 5, 5, 6, 5, 6, 6, 6, 6, 7, 5, 6, 6, 5, 6, 6, 6, 5, 5, 5,\n",
       "       7, 6, 7, 6, 5, 6, 7, 5, 6, 6, 6, 7, 6, 6, 6, 6, 6, 6, 6, 6, 6, 6,\n",
       "       6, 5, 7, 6, 5, 5, 5, 6, 5, 5, 6, 6, 5, 6, 6, 5, 6, 5, 6, 6, 5, 5,\n",
       "       6, 6, 7, 6, 7, 6, 6, 6, 6, 6, 5, 5, 5, 6, 6, 7, 6, 6, 6, 7, 5, 6,\n",
       "       6, 6, 5, 7, 6, 5, 5, 6, 6, 6, 6, 7, 6, 5, 5, 6, 7, 7, 7, 6, 7, 6,\n",
       "       7, 6, 6, 6, 6, 7, 6, 6, 5, 5, 5, 6, 6, 5, 6, 7, 5, 6, 6, 5, 7, 6,\n",
       "       8, 6, 6, 6, 6, 6, 5, 6, 6, 5, 6, 6, 6, 7, 7, 6, 5, 6, 7, 6, 5, 5,\n",
       "       5, 6, 5, 6, 6, 6, 7, 5, 6, 6, 8, 8, 6, 6, 6, 6, 6, 5, 6, 6, 6, 6,\n",
       "       6, 6, 5, 6, 6, 7, 6, 5, 7, 7, 7, 6, 6, 7, 5, 5, 7, 6, 5, 6, 6, 6,\n",
       "       5, 6, 6, 6, 6, 6, 6, 7, 6, 6, 5, 5, 6, 7, 6, 5, 6, 6, 5, 5, 7, 6,\n",
       "       8, 6, 6, 6, 5, 8, 5, 6, 6, 6, 7, 7, 5, 6, 6, 6, 6, 6, 6, 5, 6, 5,\n",
       "       7, 8, 6, 6, 7, 7, 6, 6, 6, 6, 5, 6, 6, 6, 7, 6, 7, 7, 6, 6, 6, 7,\n",
       "       6, 5, 6, 6, 6, 6, 6, 6, 4, 6, 6, 5, 6, 5, 6, 6, 5, 7, 6, 5, 6, 7,\n",
       "       5, 6, 5, 5, 5, 6, 7, 7, 5, 6, 5, 6, 6, 6, 6, 5, 6, 6, 6, 5, 7, 6,\n",
       "       7, 5, 7, 6, 5, 6, 6, 6, 6, 5, 7, 6, 6, 6, 5, 5, 6, 6, 6, 6, 5, 5,\n",
       "       6, 5, 5, 6, 7, 6, 7, 6, 6, 6, 6, 6, 5, 6, 6, 5, 6, 8, 6, 7, 6, 7,\n",
       "       5, 5, 6, 6, 6, 6, 6, 7, 5, 7, 6, 6, 6, 6, 6, 6, 5, 6, 5, 5, 5, 7,\n",
       "       5, 7, 5, 5, 6, 6, 7, 6, 6, 6, 6, 7, 6, 6, 7, 6, 6, 7, 6, 5, 5, 5,\n",
       "       5, 6, 7, 7, 6, 6, 7, 5, 7, 8, 6, 6, 6, 6, 7, 6, 6, 5, 7, 6, 5, 5,\n",
       "       6, 6, 6, 7, 6, 7, 7, 6, 5, 5, 6, 6, 6, 5, 6, 6, 5, 6, 5, 6, 6, 7,\n",
       "       6, 6, 6, 6, 5, 6, 6, 6, 5, 5, 6, 5, 6, 6, 6, 5, 6, 5, 6, 7, 5, 5,\n",
       "       6, 6, 5, 6, 6, 6, 5, 5, 5, 5, 5, 5, 6, 6, 6, 6, 6, 6, 6, 5, 5, 6,\n",
       "       6, 7, 5, 6, 6, 7, 6, 6, 5, 5, 5, 6, 5, 7, 5, 5, 6, 7, 6, 5, 6, 7,\n",
       "       6, 6, 6, 6, 7, 6, 6, 6, 6, 5, 6, 6, 6, 6, 6, 6, 5, 6, 6, 5, 6, 5,\n",
       "       5, 5, 6, 6, 6, 6, 5, 5, 5, 6, 5, 5, 5, 6, 5, 6, 6, 6, 6, 7, 7, 6,\n",
       "       7, 7, 5, 5, 6, 6, 5, 5, 5, 6, 6, 8, 6, 5, 6, 6, 6, 4, 6, 6, 6, 7,\n",
       "       5, 6, 6, 6, 6, 7, 7, 5, 6, 7, 6, 6, 5, 5, 6, 6, 7, 7, 6, 5, 6, 6,\n",
       "       6, 7, 7, 5, 8, 6, 6, 7, 6, 6, 6, 6, 6, 7, 7, 6, 7, 6, 6, 5, 6, 5,\n",
       "       6, 5, 6, 5, 5, 7, 5, 6, 6, 7, 6, 6, 6, 6, 6, 6, 6, 6, 5, 6, 6, 6,\n",
       "       5, 6, 6, 6, 6, 5, 5, 5, 6, 5, 7, 6, 6, 7, 6, 7, 6, 8, 7, 6, 6, 5,\n",
       "       6, 6, 7, 7, 5, 5, 6, 7, 6, 6, 5, 5, 5, 6, 7, 5, 6, 6, 5, 6, 5, 6,\n",
       "       5, 6, 6, 6, 5, 6, 7, 7, 6, 7, 5, 7, 6, 6, 6, 6, 6, 5, 6, 6, 6, 6,\n",
       "       6, 6, 6, 6, 6, 5, 6, 6, 6, 5, 6, 5, 5, 7, 5, 6, 5, 6, 5, 6, 6, 6,\n",
       "       6, 5, 6, 6, 6, 5, 5, 6, 6, 7, 7, 6, 6, 6, 6, 6, 6, 6, 6, 5, 5, 6,\n",
       "       6, 6, 7, 7, 4, 6, 6, 5, 7, 6, 4, 6, 6, 6, 6, 6, 6, 6, 7, 6, 5, 6,\n",
       "       6, 6, 6, 6, 7, 6, 6, 6, 6, 7, 6, 6, 5, 6, 5, 5, 5, 7, 4, 6, 5, 7,\n",
       "       6, 6, 6, 7, 6, 5, 5, 7, 5, 7, 5, 5, 6, 6, 6, 6, 6, 6, 6, 5, 7, 6,\n",
       "       6, 7, 6, 5, 7, 5, 7, 5, 6, 6, 6, 6, 7, 5, 6, 7, 6, 5, 5, 6, 6, 5,\n",
       "       5, 6, 5, 6, 8, 6, 7, 5, 5, 6, 5, 6, 6, 6, 8, 6, 6, 6, 5, 6, 5, 5,\n",
       "       6, 6, 5, 5, 6, 6, 6, 6, 5, 6, 6, 6])"
      ]
     },
     "execution_count": 35,
     "metadata": {},
     "output_type": "execute_result"
    }
   ],
   "source": [
    "y_pred"
   ]
  },
  {
   "cell_type": "code",
   "execution_count": 37,
   "metadata": {},
   "outputs": [
    {
     "name": "stdout",
     "output_type": "stream",
     "text": [
      "              precision    recall  f1-score   support\n",
      "\n",
      "           3       0.00      0.00      0.00         4\n",
      "           4       0.60      0.12      0.21        24\n",
      "           5       0.71      0.70      0.71       267\n",
      "           6       0.70      0.83      0.76       469\n",
      "           7       0.71      0.57      0.63       176\n",
      "           8       0.79      0.30      0.43        37\n",
      "           9       0.00      0.00      0.00         3\n",
      "\n",
      "    accuracy                           0.70       980\n",
      "   macro avg       0.50      0.36      0.39       980\n",
      "weighted avg       0.70      0.70      0.69       980\n",
      "\n"
     ]
    },
    {
     "name": "stderr",
     "output_type": "stream",
     "text": [
      "/Users/kazuki/opt/anaconda3/lib/python3.7/site-packages/sklearn/metrics/_classification.py:1272: UndefinedMetricWarning: Precision and F-score are ill-defined and being set to 0.0 in labels with no predicted samples. Use `zero_division` parameter to control this behavior.\n",
      "  _warn_prf(average, modifier, msg_start, len(result))\n"
     ]
    }
   ],
   "source": [
    "print(classification_report(y_test, y_pred))"
   ]
  },
  {
   "cell_type": "code",
   "execution_count": 38,
   "metadata": {},
   "outputs": [
    {
     "name": "stdout",
     "output_type": "stream",
     "text": [
      "正解率 0.7040816326530612\n"
     ]
    }
   ],
   "source": [
    "print(\"正解率\", accuracy_score(y_test, y_pred))"
   ]
  },
  {
   "cell_type": "code",
   "execution_count": null,
   "metadata": {},
   "outputs": [],
   "source": []
  }
 ],
 "metadata": {
  "kernelspec": {
   "display_name": "Python 3",
   "language": "python",
   "name": "python3"
  },
  "language_info": {
   "codemirror_mode": {
    "name": "ipython",
    "version": 3
   },
   "file_extension": ".py",
   "mimetype": "text/x-python",
   "name": "python",
   "nbconvert_exporter": "python",
   "pygments_lexer": "ipython3",
   "version": "3.7.6"
  }
 },
 "nbformat": 4,
 "nbformat_minor": 4
}
